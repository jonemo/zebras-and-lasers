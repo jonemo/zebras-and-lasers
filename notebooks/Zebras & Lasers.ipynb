{
 "cells": [
  {
   "cell_type": "code",
   "execution_count": 1,
   "metadata": {},
   "outputs": [],
   "source": [
    "import itertools\n",
    "\n",
    "# show result of last expression even if it was an assignment\n",
    "from IPython.core.interactiveshell import InteractiveShell\n",
    "InteractiveShell.ast_node_interactivity = \"last_expr_or_assign\""
   ]
  },
  {
   "cell_type": "markdown",
   "metadata": {},
   "source": [
    "# Zebras & Lasers \n",
    "\n",
    "https://github.com/jonemo/zebras-and-lasers\n",
    "\n",
    "#  \n",
    "\n",
    "#  \n",
    "\n",
    "#  \n",
    "\n",
    "**Jonas Neubert**\n",
    "\n",
    "twitter: @jonemo\n",
    "\n",
    "work with me: https://zymergen.com/careers/\n",
    "\n",
    "#   \n",
    "\n",
    "#      "
   ]
  },
  {
   "cell_type": "markdown",
   "metadata": {},
   "source": [
    "#  \n",
    "![The Barcode](barcode.png)"
   ]
  },
  {
   "cell_type": "code",
   "execution_count": 2,
   "metadata": {},
   "outputs": [
    {
     "data": {
      "text/plain": [
       "'00000000001111111100001101100010000111000000000010000001110110111100001111111111111000011111111100000111110111000000000000111100001111000000000000011111111111000011111111111100001111111110000011110000000000000000011101001111111110000000011111111100000000000001111111111111000011011000011111111000000000000'"
      ]
     },
     "execution_count": 2,
     "metadata": {},
     "output_type": "execute_result"
    }
   ],
   "source": [
    "data = \"\"\"\n",
    "00000000001111111100001101100010000111000000000010000001110110111100001111111111111000011111111100000111110111000000000000111100001111000000000000011111111111000011111111111100001111111110000011110000000000000000011101001111111110000000011111111100000000000001111111111111000011011000011111111000000000000\n",
    "\"\"\".strip()"
   ]
  },
  {
   "cell_type": "code",
   "execution_count": 3,
   "metadata": {},
   "outputs": [
    {
     "data": {
      "text/plain": [
       "<function __main__.<lambda>>"
      ]
     },
     "execution_count": 3,
     "metadata": {},
     "output_type": "execute_result"
    }
   ],
   "source": [
    "kernel = lambda a,b,c: a if a==c!=b else b"
   ]
  },
  {
   "cell_type": "code",
   "execution_count": 6,
   "metadata": {},
   "outputs": [
    {
     "data": {
      "text/plain": [
       "'000000000111111110000111110000000011100000000000000000111111111110000111111111111100001111111110000011111111100000000000011110000111100000000000001111111111100001111111111110000111111111000001111000000000000000001111000111111111000000001111111110000000000000111111111111100001111100001111111100000000000'"
      ]
     },
     "execution_count": 6,
     "metadata": {},
     "output_type": "execute_result"
    }
   ],
   "source": [
    "smooth = ''.join([kernel(a,b,c) for a,b,c in zip(data[0:], data[1:], data[2:])])"
   ]
  },
  {
   "cell_type": "code",
   "execution_count": 15,
   "metadata": {},
   "outputs": [
    {
     "data": {
      "text/plain": [
       "'2112143131212311133131211411222331112'"
      ]
     },
     "execution_count": 15,
     "metadata": {},
     "output_type": "execute_result"
    }
   ],
   "source": [
    "bars = ''.join([str(round(len(list(v))/4.0)) for k,v in itertools.groupby(smooth)][1:-1])"
   ]
  },
  {
   "cell_type": "code",
   "execution_count": 16,
   "metadata": {},
   "outputs": [
    {
     "data": {
      "text/plain": [
       "[('2', '1', '1', '2', '1', '4'),\n",
       " ('3', '1', '3', '1', '2', '1'),\n",
       " ('2', '3', '1', '1', '1', '3'),\n",
       " ('3', '1', '3', '1', '2', '1'),\n",
       " ('1', '4', '1', '1', '2', '2'),\n",
       " ('2', '3', '3', '1', '1', '1')]"
      ]
     },
     "execution_count": 16,
     "metadata": {},
     "output_type": "execute_result"
    }
   ],
   "source": [
    "chunks = list(zip(*[iter(bars)]*6))"
   ]
  },
  {
   "cell_type": "code",
   "execution_count": 17,
   "metadata": {},
   "outputs": [
    {
     "data": {
      "text/plain": [
       "['211214', '313121', '231113', '313121', '141122', '233111']"
      ]
     },
     "execution_count": 17,
     "metadata": {},
     "output_type": "execute_result"
    }
   ],
   "source": [
    "[''.join(ch) for ch in chunks]"
   ]
  },
  {
   "cell_type": "markdown",
   "metadata": {},
   "source": [
    "#  \n",
    "![The Barcode](barcode-annotated.png)"
   ]
  },
  {
   "cell_type": "markdown",
   "metadata": {},
   "source": [
    "#  \n",
    "#  \n",
    "\n",
    "![Zebras](zebras.jpg)\n",
    "\n",
    "Photo credit: [George Brits, Unsplash](https://unsplash.com/photos/wvO5tPfTpug)\n",
    "    "
   ]
  }
 ],
 "metadata": {
  "kernelspec": {
   "display_name": "Python 3",
   "language": "python",
   "name": "python3"
  },
  "language_info": {
   "codemirror_mode": {
    "name": "ipython",
    "version": 3
   },
   "file_extension": ".py",
   "mimetype": "text/x-python",
   "name": "python",
   "nbconvert_exporter": "python",
   "pygments_lexer": "ipython3",
   "version": "3.6.3"
  }
 },
 "nbformat": 4,
 "nbformat_minor": 2
}
