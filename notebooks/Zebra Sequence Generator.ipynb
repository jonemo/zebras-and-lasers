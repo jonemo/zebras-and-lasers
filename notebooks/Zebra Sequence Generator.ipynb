{
 "cells": [
  {
   "cell_type": "markdown",
   "metadata": {},
   "source": [
    "Generates \"sensor data\" for lightning talk barcode"
   ]
  },
  {
   "cell_type": "code",
   "execution_count": 1,
   "metadata": {},
   "outputs": [],
   "source": [
    "import random"
   ]
  },
  {
   "cell_type": "code",
   "execution_count": 2,
   "metadata": {},
   "outputs": [],
   "source": [
    "ground_truth = ''.join([\n",
    "    '11010010000',  # code 128 b start\n",
    "    '11101110110',  # P\n",
    "    '11000101000',  # H\n",
    "    '11101110110',  # P\n",
    "    '10000101100',  # checksum -> c\n",
    "    '11000111010',  # stop\n",
    "    '11',  # final bar\n",
    "])"
   ]
  },
  {
   "cell_type": "code",
   "execution_count": 3,
   "metadata": {},
   "outputs": [
    {
     "name": "stdout",
     "output_type": "stream",
     "text": [
      "111111110000111110000000011100000000000000000111111111110000111111111111100001111111111100000011111111100000000000000111100001111000000000000011111111111000011111111111100001111111110000011110000000000000000111100001111111110000000111111111100000000000001111111111111000011111000011111111\n"
     ]
    }
   ],
   "source": [
    "lengths = random.choices([3,4,5,6], [0.1, 1.0, 0.2, 0.05], k=len(ground_truth))\n",
    "clean = ''.join([ch * ln for ch, ln in zip(ground_truth, lengths)])\n",
    "print(clean)"
   ]
  },
  {
   "cell_type": "code",
   "execution_count": 10,
   "metadata": {},
   "outputs": [
    {
     "name": "stdout",
     "output_type": "stream",
     "text": [
      "0000000000111111110000111110000000011100000000001000000111111111110000111111111111100001111111111100000011101011100000000000000111100001111000000000000011111111111000011111111111100001111111110000011110000000000000000011101001111111110000000011111111100000000000001111111111111000011011000011111111000000000000\n",
      "0000000000111111110000111110000000011100000000000000000111111111110000111011111111101001111111110100000111111111100000000000000111100001111000000000000011101111111000011111111110100001111111111000001110000000000000000111100001111111110000000101111111100000100000001101111111111000011111000011111111000000000000\n",
      "0000000000111111010000111110000000011100000000000000000111111111110000111111111111100001111111111100000011111111100000000000000111100001111000000000000011111111111000001111111111100101111111110000011110000000000000000111100001111111110000000111111111101000000000001111111111111000011111000011111111000000000000\n"
     ]
    }
   ],
   "source": [
    "def noisemaker(clean):\n",
    "    return ''.join([\n",
    "        ch if random.random() < 0.95 else random.choice(['0', '1']) \n",
    "        for ch in clean\n",
    "    ])\n",
    "\n",
    "print('\\n'.join(['0000000000' + noisemaker(clean) + '000000000000' for _ in range(3)]))"
   ]
  }
 ],
 "metadata": {
  "kernelspec": {
   "display_name": "Python 3",
   "language": "python",
   "name": "python3"
  },
  "language_info": {
   "codemirror_mode": {
    "name": "ipython",
    "version": 3
   },
   "file_extension": ".py",
   "mimetype": "text/x-python",
   "name": "python",
   "nbconvert_exporter": "python",
   "pygments_lexer": "ipython3",
   "version": "3.6.3"
  }
 },
 "nbformat": 4,
 "nbformat_minor": 2
}
